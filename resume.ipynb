{
 "cells": [
  {
   "cell_type": "code",
   "execution_count": 10,
   "metadata": {},
   "outputs": [],
   "source": [
    "class Education:\n",
    "    def __init__(self,school,degree,grad_year):\n",
    "        self.school = school\n",
    "        self.degree = degree\n",
    "        self.grad_year = grad_year\n",
    "    \n",
    "    def output(self):\n",
    "        print(self.school)\n",
    "        print(self.degree)\n",
    "        print(self.grad_year)"
   ]
  },
  {
   "cell_type": "code",
   "execution_count": 11,
   "metadata": {},
   "outputs": [],
   "source": [
    "class Job:\n",
    "    def __init__(self,title,duration,description,company):\n",
    "        self.title = title\n",
    "        self.duration = duration\n",
    "        self.description = description\n",
    "        self.company = company\n",
    "        \n",
    "    def output(self):\n",
    "        print(self.title,\"@\",self.company)\n",
    "        print(self.duration)\n",
    "        print(self.description)"
   ]
  },
  {
   "cell_type": "code",
   "execution_count": 12,
   "metadata": {},
   "outputs": [],
   "source": [
    "class Resume:\n",
    "    def __init__(self,name,phone,email):\n",
    "        self.name = name\n",
    "        self.phone = phone\n",
    "        self.email = email\n",
    "        self.education = []\n",
    "        #can add other things not part of constructor\n",
    "        self.experience = []\n",
    "    \n",
    "    def output(self):\n",
    "        print(self.name)\n",
    "        print(self.phone)\n",
    "        print(self.email)\n",
    "        print(\" \")\n",
    "        print(\"Education:\")\n",
    "        for i in self.education:\n",
    "            i.output()\n",
    "        print(\" \")\n",
    "        print(\"Experience:\")\n",
    "        for j in self.experience: #j = list\n",
    "            j.output()\n",
    "            \n",
    "    def add_education(self,school,degree,grad_year):\n",
    "        i = Education(school,degree,grad_year)\n",
    "        self.education.append(i)\n",
    "        \n",
    "    def add_job(self,title,duration,description,company):\n",
    "        j = Job(title,duration,description,company)\n",
    "        self.experience.append(j)"
   ]
  },
  {
   "cell_type": "code",
   "execution_count": 13,
   "metadata": {},
   "outputs": [],
   "source": [
    "myresume = Resume(\"AJ Henley\", \"555-1212\", \"aj@henley.com\")"
   ]
  },
  {
   "cell_type": "code",
   "execution_count": 18,
   "metadata": {},
   "outputs": [
    {
     "name": "stdout",
     "output_type": "stream",
     "text": [
      "AJ Henley\n",
      "555-1212\n",
      "aj@henley.com\n",
      " \n",
      "Education:\n",
      "Howard University\n",
      "mBA\n",
      "2010\n",
      "Excelsior College\n",
      "BA\n",
      "2005\n",
      " \n",
      "Experience:\n",
      "Sr Director @ Montomgery College\n",
      "2015-present\n",
      "Running and teaching stuff\n"
     ]
    }
   ],
   "source": [
    "myresume.output()"
   ]
  },
  {
   "cell_type": "code",
   "execution_count": 19,
   "metadata": {},
   "outputs": [],
   "source": [
    "myresume.add_education(\"Howard University\",\"mBA\",2010)\n",
    "myresume.add_education(\"Excelsior College\",\"BA\",2005)"
   ]
  },
  {
   "cell_type": "code",
   "execution_count": 17,
   "metadata": {},
   "outputs": [],
   "source": [
    "myresume.add_job(\"Sr Director\",\"2015-present\",\"Running and teaching stuff\",\"Montomgery College\")"
   ]
  },
  {
   "cell_type": "code",
   "execution_count": null,
   "metadata": {},
   "outputs": [],
   "source": []
  }
 ],
 "metadata": {
  "kernelspec": {
   "display_name": "Python 3",
   "language": "python",
   "name": "python3"
  },
  "language_info": {
   "codemirror_mode": {
    "name": "ipython",
    "version": 3
   },
   "file_extension": ".py",
   "mimetype": "text/x-python",
   "name": "python",
   "nbconvert_exporter": "python",
   "pygments_lexer": "ipython3",
   "version": "3.7.6"
  }
 },
 "nbformat": 4,
 "nbformat_minor": 4
}
